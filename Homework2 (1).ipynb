{
 "cells": [
  {
   "cell_type": "markdown",
   "id": "b8eff6d7",
   "metadata": {},
   "source": [
    "# Homework 2: Evaluation of From‑Scratch Classifiers\n",
    "## Installation\n",
    "To start your homework, you need to install requirements. We recommend that you use conda environment for this homework.\n",
    "\n",
    "Assuming you have a freshly installed Ubuntu 22.04 machine, use the following commands:\n",
    "\n",
    "1. apt-get update\n",
    "2. apt-get install -y curl gcc\n",
    "3. curl -O https://repo.anaconda.com/miniconda/Miniconda3-latest-Linux-x86_64.sh\n",
    "4. bash Miniconda3-latest-Linux-x86_64.sh\n",
    "5. source ~/.bashrc\n",
    "6. conda create -n lfdhw2 python=3.10.13 numpy=2.2.4 scipy=1.15.1 scikit-learn=1.6.1\n",
    "7. conda activate lfdhw2\n",
    "8. conda install -c conda-forge notebook pandas -y\n",
    "9. pip install mnist1d\n",
    "\n",
    "\n",
    "This notebook will automatically **train and evaluate** your own implementations of Logistic Regression, Support Vector Machine, and Multi‑Layer Perceptron located in `logreg.py`, `svm.py`, and `mlp.py`. Also, you need to implement OnevsRest classifier in `ovr_logreg.py`(You simply fit each class with a separate logistic regression classifier to distinguish that class versus the rest).\n",
    "\n",
    "Follow the comments in each code cell if you would like to modify hyper‑parameters or datasets.\n",
    "\n",
    "**Your accuracy scores should not be more than 12% lower than those from the original scikit-learn library.**"
   ]
  },
  {
   "cell_type": "code",
   "id": "47decd9e",
   "metadata": {
    "ExecuteTime": {
     "end_time": "2025-05-18T12:39:45.297371Z",
     "start_time": "2025-05-18T12:39:45.285313Z"
    }
   },
   "source": [
    "%load_ext autoreload\n",
    "%autoreload 2"
   ],
   "outputs": [],
   "execution_count": 1
  },
  {
   "cell_type": "code",
   "id": "18ed6840",
   "metadata": {
    "ExecuteTime": {
     "end_time": "2025-05-18T12:40:39.298430Z",
     "start_time": "2025-05-18T12:40:38.166403Z"
    }
   },
   "source": [
    "import numpy as np\n",
    "import pandas as pd\n",
    "\n",
    "from mnist1d.data import make_dataset, get_dataset_args\n",
    "from sklearn.datasets import load_breast_cancer\n",
    "\n",
    "from sklearn.model_selection import train_test_split\n",
    "from sklearn.preprocessing import StandardScaler\n",
    "from sklearn.metrics import accuracy_score, classification_report\n",
    "\n",
    "from sklearn.linear_model import LogisticRegression as SkLogisticRegression\n",
    "from sklearn.svm import SVC\n",
    "from sklearn.neural_network import MLPClassifier\n",
    "from sklearn.tree import DecisionTreeClassifier\n",
    "\n",
    "from logreg import LogisticRegression   \n",
    "from svm import SVM\n",
    "from mlp import MLP\n",
    "from ovr_logreg import OneVsRestLogisticRegression\n",
    "\n",
    "from scipy.stats import ttest_rel  # paired t-test\n",
    "\n",
    "import warnings; warnings.filterwarnings('ignore')"
   ],
   "outputs": [],
   "execution_count": 2
  },
  {
   "cell_type": "code",
   "id": "9e7311ec",
   "metadata": {
    "ExecuteTime": {
     "end_time": "2025-05-18T12:51:45.755517Z",
     "start_time": "2025-05-18T12:51:45.570629Z"
    }
   },
   "source": [
    "# 1. Load dataset (binary classification)\n",
    "data_bc = load_breast_cancer()\n",
    "X = pd.DataFrame(data_bc.data, columns=data_bc.feature_names)\n",
    "y = pd.Series(data_bc.target)  # y is 0/1\n",
    "\n",
    "# 2. Standardize features, for simplicity, we intentionally ....(complete the sentence).\n",
    "scaler = StandardScaler()\n",
    "X = scaler.fit_transform(X)\n",
    "\n",
    "# 3. Train / test split\n",
    "X_train, X_test, y_train, y_test = train_test_split(X, y, test_size=0.25, random_state=42, stratify=y)\n",
    "\n",
    "print(f'Train samples: {X_train.shape[0]}, Test samples: {X_test.shape[0]}')"
   ],
   "outputs": [
    {
     "name": "stdout",
     "output_type": "stream",
     "text": [
      "Train samples: 426, Test samples: 143\n"
     ]
    }
   ],
   "execution_count": 3
  },
  {
   "cell_type": "markdown",
   "id": "5fea8f3a",
   "metadata": {},
   "source": [
    "# Logistic Regression"
   ]
  },
  {
   "cell_type": "code",
   "id": "9ed4e7f1",
   "metadata": {
    "ExecuteTime": {
     "end_time": "2025-05-18T12:51:50.002470Z",
     "start_time": "2025-05-18T12:51:49.912420Z"
    }
   },
   "source": [
    "# === Logistic Regression (from scratch) ===\n",
    "logreg = LogisticRegression(max_iter=1000, random_state=42)\n",
    "logreg.fit(X_train, y_train)\n",
    "y_pred_lr = logreg.predict(X_test)\n",
    "print('Logistic Regression Accuracy:', accuracy_score(y_test, y_pred_lr))\n",
    "print(classification_report(y_test, y_pred_lr))"
   ],
   "outputs": [
    {
     "name": "stdout",
     "output_type": "stream",
     "text": [
      "Logistic Regression Accuracy: 0.9440559440559441\n",
      "              precision    recall  f1-score   support\n",
      "\n",
      "           0       0.96      0.89      0.92        53\n",
      "           1       0.94      0.98      0.96        90\n",
      "\n",
      "    accuracy                           0.94       143\n",
      "   macro avg       0.95      0.93      0.94       143\n",
      "weighted avg       0.94      0.94      0.94       143\n",
      "\n"
     ]
    }
   ],
   "execution_count": 4
  },
  {
   "cell_type": "code",
   "id": "507c4ece",
   "metadata": {
    "ExecuteTime": {
     "end_time": "2025-05-18T12:52:01.237189Z",
     "start_time": "2025-05-18T12:52:01.166168Z"
    }
   },
   "source": [
    "# --- scikit‑learn Logistic Regression ---\n",
    "sk_logreg = SkLogisticRegression(max_iter=1000, solver='saga', random_state=42)\n",
    "sk_logreg.fit(X_train, y_train)\n",
    "y_pred_lr_sk = sk_logreg.predict(X_test)\n",
    "print('Scikit-learn Logistic Regression Accuracy:', accuracy_score(y_test, y_pred_lr_sk))\n"
   ],
   "outputs": [
    {
     "name": "stdout",
     "output_type": "stream",
     "text": [
      "Scikit-learn Logistic Regression Accuracy: 0.986013986013986\n"
     ]
    }
   ],
   "execution_count": 5
  },
  {
   "cell_type": "markdown",
   "id": "ecb6bde8",
   "metadata": {},
   "source": [
    "## Now, we'll use mnist 1D dataset\n",
    "###### https://github.com/greydanus/mnist1d"
   ]
  },
  {
   "cell_type": "code",
   "id": "41e6c13a",
   "metadata": {
    "ExecuteTime": {
     "end_time": "2025-05-18T12:52:26.135492Z",
     "start_time": "2025-05-18T12:52:24.955029Z"
    }
   },
   "source": [
    "defaults = get_dataset_args()\n",
    "data_mnist1d = make_dataset(defaults)\n",
    "X_mnist1d, y_mnist1d, t_mnist1d = data_mnist1d['x'], data_mnist1d['y'], data_mnist1d['t']\n",
    "\n",
    "X_train_mnist1d, X_test_mnist1d, y_train_mnist1d, y_test_mnist1d = \\\n",
    "    train_test_split(X_mnist1d, y_mnist1d, test_size=0.2, random_state=42)"
   ],
   "outputs": [],
   "execution_count": 6
  },
  {
   "cell_type": "code",
   "id": "ceb63052",
   "metadata": {
    "ExecuteTime": {
     "end_time": "2025-05-18T12:52:30.485377Z",
     "start_time": "2025-05-18T12:52:29.623320Z"
    }
   },
   "source": [
    "sk_logreg_mnist1d = SkLogisticRegression(max_iter=1000, solver='saga', \n",
    "                                         multi_class='multinomial')\n",
    "# Attention: multi_class='multinomial'was deprecated since version 1.5:\n",
    "# multi_class was deprecated in version 1.5 and will be removed in 1.7. \n",
    "# From then on, the recommended ‘multinomial’ will always be used for n_classes >= 3. \n",
    "# Solvers that do not support ‘multinomial’ will raise an error. \n",
    "# Use sklearn.multiclass.OneVsRestClassifier(LogisticRegression()) if you still want to use OvR.\n",
    "# For simplicity, we'll use multi_class='multinomial'\n",
    "\n",
    "sk_logreg_mnist1d.fit(X_train_mnist1d, y_train_mnist1d)\n",
    "\n",
    "y_pred_test_mnist1d = sk_logreg_mnist1d.predict(X_test_mnist1d)\n",
    "accuracy_test_mnist1d = accuracy_score(y_test_mnist1d, y_pred_test_mnist1d)\n",
    "print(f\"Test accuracy Mnist: {accuracy_test_mnist1d:.2%}\")"
   ],
   "outputs": [
    {
     "name": "stdout",
     "output_type": "stream",
     "text": [
      "Test accuracy Mnist: 31.13%\n"
     ]
    }
   ],
   "execution_count": 7
  },
  {
   "cell_type": "code",
   "id": "e03e8676",
   "metadata": {
    "ExecuteTime": {
     "end_time": "2025-05-18T12:52:37.217250Z",
     "start_time": "2025-05-18T12:52:35.902377Z"
    }
   },
   "source": [
    "ovr_mnist1d = OneVsRestLogisticRegression(max_iter=1000)\n",
    "\n",
    "ovr_mnist1d.fit(X_train_mnist1d, y_train_mnist1d)\n",
    "\n",
    "y_pred_test_mnist1d = ovr_mnist1d.predict(X_test_mnist1d)\n",
    "accuracy_test_mnist1d = accuracy_score(y_test_mnist1d, y_pred_test_mnist1d)\n",
    "print(f\"Test accuracy Mnist: {accuracy_test_mnist1d:.2%}\")"
   ],
   "outputs": [
    {
     "name": "stdout",
     "output_type": "stream",
     "text": [
      "Test accuracy Mnist: 23.25%\n"
     ]
    }
   ],
   "execution_count": 8
  },
  {
   "cell_type": "markdown",
   "id": "bc20a263",
   "metadata": {},
   "source": [
    "# SVM"
   ]
  },
  {
   "cell_type": "code",
   "id": "92b62fd0",
   "metadata": {
    "ExecuteTime": {
     "end_time": "2025-05-18T12:55:21.132586Z",
     "start_time": "2025-05-18T12:55:19.740881Z"
    }
   },
   "source": [
    "# === Support Vector Machine (from scratch) ===\n",
    "# Convert labels to {-1, 1} for SVM\n",
    "y_train_svm = np.where(y_train == 0, -1, 1)\n",
    "y_test_svm = np.where(y_test == 0, -1, 1)\n",
    "\n",
    "svm = SVM(C=1.0, max_iter=1000, random_state=42)\n",
    "svm.fit(X_train, y_train_svm)\n",
    "y_pred_svm = svm.predict(X_test)\n",
    "\n",
    "# Map back to 0/1 for metrics\n",
    "y_pred_svm_bin = np.where(y_pred_svm == -1, 0, 1)\n",
    "print('SVM Accuracy:', accuracy_score(y_test, y_pred_svm_bin))\n",
    "print(classification_report(y_test, y_pred_svm_bin))"
   ],
   "outputs": [
    {
     "name": "stdout",
     "output_type": "stream",
     "text": [
      "SVM Accuracy: 0.986013986013986\n",
      "              precision    recall  f1-score   support\n",
      "\n",
      "           0       0.98      0.98      0.98        53\n",
      "           1       0.99      0.99      0.99        90\n",
      "\n",
      "    accuracy                           0.99       143\n",
      "   macro avg       0.99      0.99      0.99       143\n",
      "weighted avg       0.99      0.99      0.99       143\n",
      "\n"
     ]
    }
   ],
   "execution_count": 10
  },
  {
   "cell_type": "code",
   "id": "d538afb9",
   "metadata": {
    "ExecuteTime": {
     "end_time": "2025-05-18T12:55:26.206221Z",
     "start_time": "2025-05-18T12:55:26.179416Z"
    }
   },
   "source": [
    "# --- scikit‑learn SVM ---\n",
    "sk_svm = SVC(kernel='linear')\n",
    "sk_svm.fit(X_train, y_train)\n",
    "y_pred_svm_sk = sk_svm.predict(X_test)\n",
    "print('Scikit-learn SVM Accuracy:', accuracy_score(y_test, y_pred_svm_sk))"
   ],
   "outputs": [
    {
     "name": "stdout",
     "output_type": "stream",
     "text": [
      "Scikit-learn SVM Accuracy: 0.986013986013986\n"
     ]
    }
   ],
   "execution_count": 11
  },
  {
   "cell_type": "markdown",
   "id": "0b14064c",
   "metadata": {},
   "source": [
    "# MLP"
   ]
  },
  {
   "cell_type": "code",
   "id": "65cdfbf2",
   "metadata": {
    "ExecuteTime": {
     "end_time": "2025-05-18T12:57:40.947804Z",
     "start_time": "2025-05-18T12:57:40.185151Z"
    }
   },
   "source": [
    "# === Multi‑Layer Perceptron (from scratch) ===\n",
    "# Prepare one‑hot labels for MLP\n",
    "def one_hot(y, num_classes):\n",
    "    out = np.zeros((y.size, num_classes))\n",
    "    out[np.arange(y.size), y] = 1\n",
    "    return out\n",
    "\n",
    "y_train_oh = one_hot(y_train_mnist1d, 10)\n",
    "\n",
    "mlp = MLP(input_size=X_train_mnist1d.shape[1], hidden_sizes=[32, 16], output_size=10,\n",
    "          activation='relu', output_activation='softmax', learning_rate=0.05)\n",
    "mlp.fit(X_train_mnist1d, y_train_oh, epochs=100, batch_size=32, verbose=False)\n",
    "\n",
    "y_pred_probs = mlp.predict_proba(X_test_mnist1d)\n",
    "y_pred_mlp = np.argmax(y_pred_probs, axis=1)\n",
    "print('MLP Accuracy:', accuracy_score(y_test_mnist1d, y_pred_mlp))\n",
    "print(classification_report(y_test_mnist1d, y_pred_mlp))"
   ],
   "outputs": [
    {
     "name": "stdout",
     "output_type": "stream",
     "text": [
      "MLP Accuracy: 0.4925\n",
      "              precision    recall  f1-score   support\n",
      "\n",
      "           0       0.90      0.81      0.86        81\n",
      "           1       0.39      0.21      0.27        87\n",
      "           2       0.38      0.26      0.31        85\n",
      "           3       0.63      0.73      0.68        90\n",
      "           4       0.15      0.09      0.11        70\n",
      "           5       0.30      0.46      0.36        76\n",
      "           6       0.81      0.95      0.87        73\n",
      "           7       0.45      0.47      0.46        93\n",
      "           8       0.52      0.54      0.53        79\n",
      "           9       0.26      0.38      0.31        66\n",
      "\n",
      "    accuracy                           0.49       800\n",
      "   macro avg       0.48      0.49      0.48       800\n",
      "weighted avg       0.49      0.49      0.48       800\n",
      "\n"
     ]
    }
   ],
   "execution_count": 13
  },
  {
   "cell_type": "code",
   "id": "6c866099",
   "metadata": {
    "ExecuteTime": {
     "end_time": "2025-05-18T12:57:46.690540Z",
     "start_time": "2025-05-18T12:57:45.919285Z"
    }
   },
   "source": [
    "# --- scikit‑learn MLP ---\n",
    "sk_mlp = MLPClassifier(hidden_layer_sizes=(32,16), activation='relu', \n",
    "                        max_iter=100, random_state=42)\n",
    "sk_mlp.fit(X_train_mnist1d, y_train_mnist1d)\n",
    "y_pred_mlp_sk = sk_mlp.predict(X_test_mnist1d)\n",
    "\n",
    "print('Scikit-learn MLP Accuracy:', accuracy_score(y_test_mnist1d, y_pred_mlp_sk))"
   ],
   "outputs": [
    {
     "name": "stdout",
     "output_type": "stream",
     "text": [
      "Scikit-learn MLP Accuracy: 0.52875\n"
     ]
    }
   ],
   "execution_count": 14
  },
  {
   "cell_type": "markdown",
   "id": "2ecff23c",
   "metadata": {},
   "source": [
    "# Apply T-Test\n",
    "##### In this section we will apply t-test, which is used to find a statistically significant difference between two groups.\n",
    "##### For a concise explanation of the t-test, see this YouTube channel: https://www.youtube.com/@tilestats"
   ]
  },
  {
   "cell_type": "code",
   "id": "577efd3b",
   "metadata": {
    "ExecuteTime": {
     "end_time": "2025-05-18T12:58:06.287824Z",
     "start_time": "2025-05-18T12:58:06.131354Z"
    }
   },
   "source": [
    "seeds = range(10)\n",
    "accuracies_1 = []\n",
    "accuracies_2 = []\n",
    "\n",
    "for seed in seeds:\n",
    "    model1 = DecisionTreeClassifier(random_state=seed)\n",
    "    model2 = DecisionTreeClassifier(random_state=seed+1000)\n",
    "    model1.fit(X_train, y_train)\n",
    "    model2.fit(X_train, y_train)\n",
    "    \n",
    "    acc1 = accuracy_score(y_test, model1.predict(X_test))\n",
    "    acc2 = accuracy_score(y_test, model2.predict(X_test))\n",
    "    \n",
    "    accuracies_1.append(acc1)\n",
    "    accuracies_2.append(acc2)\n",
    "\n",
    "acc1 = np.array(accuracies_1)\n",
    "acc2 = np.array(accuracies_2)\n"
   ],
   "outputs": [],
   "execution_count": 15
  },
  {
   "cell_type": "code",
   "id": "6f97a5f4",
   "metadata": {
    "ExecuteTime": {
     "end_time": "2025-05-18T12:58:08.896624Z",
     "start_time": "2025-05-18T12:58:08.876608Z"
    }
   },
   "source": [
    "print(acc1)\n",
    "print(acc2)"
   ],
   "outputs": [
    {
     "name": "stdout",
     "output_type": "stream",
     "text": [
      "[0.93706294 0.93706294 0.93706294 0.93706294 0.91608392 0.91608392\n",
      " 0.93006993 0.92307692 0.90909091 0.93706294]\n",
      "[0.93006993 0.91608392 0.93006993 0.92307692 0.92307692 0.91608392\n",
      " 0.93706294 0.93006993 0.91608392 0.93006993]\n"
     ]
    }
   ],
   "execution_count": 16
  },
  {
   "cell_type": "markdown",
   "id": "eb2a0f87",
   "metadata": {},
   "source": [
    "##### Apply a t-test on two accuracy scores and analyze the results"
   ]
  },
  {
   "cell_type": "code",
   "id": "f552ce65",
   "metadata": {
    "ExecuteTime": {
     "end_time": "2025-05-18T13:26:35.441230Z",
     "start_time": "2025-05-18T13:26:34.664883Z"
    }
   },
   "source": [
    "import math \n",
    "\n",
    "diff      = acc1 - acc2\n",
    "n         = diff.size\n",
    "mean1     = acc1.mean()\n",
    "mean2     = acc2.mean()\n",
    "mean_diff = diff.mean()\n",
    "std_diff  = diff.std(ddof=1)\n",
    "t_stat    = mean_diff / (std_diff / math.sqrt(n))\n",
    "df        = n - 1\n",
    "\n",
    "def t_pdf(x: float, v: int) -> float:\n",
    "    num   = math.gamma((v + 1) / 2)\n",
    "    denom = math.sqrt(v * math.pi) * math.gamma(v / 2)\n",
    "    return num / denom * (1 + x**2 / v) ** (-(v + 1) / 2)\n",
    "\n",
    "def t_survival(x: float, v: int, step: float = 1e-4, upper: float = 100) -> float:\n",
    "    x = abs(x)\n",
    "    if x == 0:\n",
    "        return 0.5\n",
    "    n_steps = int((upper - x) / step)\n",
    "    if n_steps % 2 == 1:\n",
    "        n_steps += 1\n",
    "    h  = (upper - x) / n_steps\n",
    "    s  = t_pdf(x, v) + t_pdf(upper, v)\n",
    "    for k in range(1, n_steps):\n",
    "        factor = 4 if k % 2 else 2\n",
    "        s += factor * t_pdf(x + k * h, v)\n",
    "    return (h / 3) * s\n",
    "\n",
    "p_one = t_survival(t_stat, df)\n",
    "p_val = 2 * p_one\n",
    "\n",
    "print(f\"Mean Accuracy (Model 1): {mean1}\")\n",
    "print(f\"Mean Accuracy (Model 2): {mean2}\")\n",
    "print(f\"T-statistic: {t_stat}\")\n",
    "print(f\"P-value: {p_val}\")"
   ],
   "outputs": [
    {
     "name": "stdout",
     "output_type": "stream",
     "text": [
      "Mean Accuracy (Model 1): 0.9279720279720278\n",
      "Mean Accuracy (Model 2): 0.9251748251748252\n",
      "T-statistic: 0.8846517369293798\n",
      "P-value: 0.3993613590441641\n"
     ]
    }
   ],
   "execution_count": 18
  },
  {
   "cell_type": "markdown",
   "id": "9029e5cb",
   "metadata": {},
   "source": [
    "Interpration:"
   ]
  },
  {
   "cell_type": "markdown",
   "id": "3b021cb2",
   "metadata": {},
   "source": []
  }
 ],
 "metadata": {
  "kernelspec": {
   "display_name": "lfdhw1",
   "language": "python",
   "name": "python3"
  },
  "language_info": {
   "codemirror_mode": {
    "name": "ipython",
    "version": 3
   },
   "file_extension": ".py",
   "mimetype": "text/x-python",
   "name": "python",
   "nbconvert_exporter": "python",
   "pygments_lexer": "ipython3",
   "version": "3.10.13"
  }
 },
 "nbformat": 4,
 "nbformat_minor": 5
}
